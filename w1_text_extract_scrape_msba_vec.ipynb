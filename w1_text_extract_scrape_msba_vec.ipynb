{
 "cells": [
  {
   "cell_type": "markdown",
   "metadata": {},
   "source": [
    "# Web Scraping Demo - vectorize"
   ]
  },
  {
   "cell_type": "markdown",
   "metadata": {},
   "source": [
    "---"
   ]
  },
  {
   "cell_type": "markdown",
   "metadata": {},
   "source": [
    "# Scraping MSBA website\n",
    "+ Scrape text from MSBA website\n",
    "+ Process and create dataframe\n",
    "+ Generate wordcloud of word frequencies\n",
    "+ Vectorize text and plot top words from MSBA website\n",
    "+ Do the same thing for MBA\n",
    "+ Compose a reusable function to do it for other MSB program sites"
   ]
  },
  {
   "cell_type": "code",
   "execution_count": 14,
   "metadata": {},
   "outputs": [],
   "source": [
    "import requests\n",
    "from bs4 import BeautifulSoup\n",
    "import pandas as pd"
   ]
  },
  {
   "cell_type": "code",
   "execution_count": 15,
   "metadata": {},
   "outputs": [],
   "source": [
    "# 1 Pass URL\n",
    "html = requests.get(\"https://msb.georgetown.edu/msba/\").text\n",
    "\n",
    "# 2 Make it soup object\n",
    "soup_msba = BeautifulSoup(html, 'lxml')"
   ]
  },
  {
   "cell_type": "code",
   "execution_count": 16,
   "metadata": {},
   "outputs": [],
   "source": [
    "# soup_msba"
   ]
  },
  {
   "cell_type": "code",
   "execution_count": 17,
   "metadata": {},
   "outputs": [],
   "source": [
    "# 3 Parse: Find first element on page with p tag\n",
    "#     .find(): returns first element with specific HTML tag\n",
    "#     .find_all(): returns all elements with specified HTML tag (returns a list)\n",
    "# soup_msba.find(\"p\")\n",
    "# soup_msba.find(\"p\").text\n",
    "# soup_msba.find_all(\"p\")\n",
    "# for each in soup_msba.find_all(\"p\"):\n",
    "#      print(each.text)\n",
    "# for each in soup_msba.find_all(\"p\"):\n",
    "#     print(each.text)\n",
    "#     print(\"\\n NEXT \\n\")"
   ]
  },
  {
   "cell_type": "code",
   "execution_count": 18,
   "metadata": {},
   "outputs": [],
   "source": [
    "# Extract all the content with p tag and save as a list\n",
    "msba_p = [each.text for each in soup_msba.find_all(\"p\")]"
   ]
  },
  {
   "cell_type": "code",
   "execution_count": 19,
   "metadata": {},
   "outputs": [],
   "source": [
    "# msba_p"
   ]
  },
  {
   "cell_type": "code",
   "execution_count": 20,
   "metadata": {},
   "outputs": [],
   "source": [
    "# Convert list of content to dataframe\n",
    "df = pd.DataFrame(msba_p,\n",
    "                 columns=[\"text\"])"
   ]
  },
  {
   "cell_type": "code",
   "execution_count": 21,
   "metadata": {},
   "outputs": [
    {
     "data": {
      "text/html": [
       "<div>\n",
       "<style scoped>\n",
       "    .dataframe tbody tr th:only-of-type {\n",
       "        vertical-align: middle;\n",
       "    }\n",
       "\n",
       "    .dataframe tbody tr th {\n",
       "        vertical-align: top;\n",
       "    }\n",
       "\n",
       "    .dataframe thead th {\n",
       "        text-align: right;\n",
       "    }\n",
       "</style>\n",
       "<table border=\"1\" class=\"dataframe\">\n",
       "  <thead>\n",
       "    <tr style=\"text-align: right;\">\n",
       "      <th></th>\n",
       "      <th>text</th>\n",
       "    </tr>\n",
       "  </thead>\n",
       "  <tbody>\n",
       "    <tr>\n",
       "      <th>0</th>\n",
       "      <td>Discover how to create, share, and sustain val...</td>\n",
       "    </tr>\n",
       "    <tr>\n",
       "      <th>1</th>\n",
       "      <td>The online Master in Business Analytics offere...</td>\n",
       "    </tr>\n",
       "    <tr>\n",
       "      <th>2</th>\n",
       "      <td>In this premier program, you will discover a r...</td>\n",
       "    </tr>\n",
       "    <tr>\n",
       "      <th>3</th>\n",
       "      <td>Throughout the online MSBA program, you will c...</td>\n",
       "    </tr>\n",
       "    <tr>\n",
       "      <th>4</th>\n",
       "      <td>The program includes two required and intensiv...</td>\n",
       "    </tr>\n",
       "    <tr>\n",
       "      <th>5</th>\n",
       "      <td>Students also participate in hands-on training...</td>\n",
       "    </tr>\n",
       "    <tr>\n",
       "      <th>6</th>\n",
       "      <td>By graduation, you will speak the language of ...</td>\n",
       "    </tr>\n",
       "    <tr>\n",
       "      <th>7</th>\n",
       "      <td>Georgetown McDonough’s Master of Science in Bu...</td>\n",
       "    </tr>\n",
       "    <tr>\n",
       "      <th>8</th>\n",
       "      <td>Throughout the program, you will have access t...</td>\n",
       "    </tr>\n",
       "    <tr>\n",
       "      <th>9</th>\n",
       "      <td>You will also connect to Georgetown’s vast glo...</td>\n",
       "    </tr>\n",
       "    <tr>\n",
       "      <th>10</th>\n",
       "      <td>Throughout your entire career, we remain dedic...</td>\n",
       "    </tr>\n",
       "    <tr>\n",
       "      <th>11</th>\n",
       "      <td>*Signifies African American and Hispanic Ameri...</td>\n",
       "    </tr>\n",
       "    <tr>\n",
       "      <th>12</th>\n",
       "      <td>News Story, Student Experience</td>\n",
       "    </tr>\n",
       "    <tr>\n",
       "      <th>13</th>\n",
       "      <td>Summer Internship Spotlight: Emerson Crockett ...</td>\n",
       "    </tr>\n",
       "    <tr>\n",
       "      <th>14</th>\n",
       "      <td>\\nEach year, Georgetown McDonough students spe...</td>\n",
       "    </tr>\n",
       "    <tr>\n",
       "      <th>15</th>\n",
       "      <td>August 9, 2023</td>\n",
       "    </tr>\n",
       "    <tr>\n",
       "      <th>16</th>\n",
       "      <td>News Story</td>\n",
       "    </tr>\n",
       "    <tr>\n",
       "      <th>17</th>\n",
       "      <td>Igor Smelyansky to Graduates: Lessons in Leade...</td>\n",
       "    </tr>\n",
       "    <tr>\n",
       "      <th>18</th>\n",
       "      <td>\\nWhen Igor Smelyansky (MBA’05) graduated from...</td>\n",
       "    </tr>\n",
       "    <tr>\n",
       "      <th>19</th>\n",
       "      <td>May 19, 2023</td>\n",
       "    </tr>\n",
       "    <tr>\n",
       "      <th>20</th>\n",
       "      <td>News Story</td>\n",
       "    </tr>\n",
       "    <tr>\n",
       "      <th>21</th>\n",
       "      <td>Jed Raynes (MSBA’23) on the Importance of Netw...</td>\n",
       "    </tr>\n",
       "    <tr>\n",
       "      <th>22</th>\n",
       "      <td>\\nAs the spring semester comes to a close, Geo...</td>\n",
       "    </tr>\n",
       "    <tr>\n",
       "      <th>23</th>\n",
       "      <td>May 11, 2023</td>\n",
       "    </tr>\n",
       "    <tr>\n",
       "      <th>24</th>\n",
       "      <td>MSBAadmissions@georgetown.eduCall Today: (202)...</td>\n",
       "    </tr>\n",
       "    <tr>\n",
       "      <th>25</th>\n",
       "      <td></td>\n",
       "    </tr>\n",
       "    <tr>\n",
       "      <th>26</th>\n",
       "      <td>Rafik B. Hariri Building</td>\n",
       "    </tr>\n",
       "    <tr>\n",
       "      <th>27</th>\n",
       "      <td>37th and O Streets, N.W. Washington\\nDC\\n20057</td>\n",
       "    </tr>\n",
       "    <tr>\n",
       "      <th>28</th>\n",
       "      <td>© 2023 McDonough School of Business</td>\n",
       "    </tr>\n",
       "    <tr>\n",
       "      <th>29</th>\n",
       "      <td></td>\n",
       "    </tr>\n",
       "    <tr>\n",
       "      <th>30</th>\n",
       "      <td>Rafik B. Hariri Building</td>\n",
       "    </tr>\n",
       "    <tr>\n",
       "      <th>31</th>\n",
       "      <td>37th and O Streets, N.W. Washington\\nDC\\n20057</td>\n",
       "    </tr>\n",
       "    <tr>\n",
       "      <th>32</th>\n",
       "      <td>© 2023 McDonough School of Business</td>\n",
       "    </tr>\n",
       "  </tbody>\n",
       "</table>\n",
       "</div>"
      ],
      "text/plain": [
       "                                                 text\n",
       "0   Discover how to create, share, and sustain val...\n",
       "1   The online Master in Business Analytics offere...\n",
       "2   In this premier program, you will discover a r...\n",
       "3   Throughout the online MSBA program, you will c...\n",
       "4   The program includes two required and intensiv...\n",
       "5   Students also participate in hands-on training...\n",
       "6   By graduation, you will speak the language of ...\n",
       "7   Georgetown McDonough’s Master of Science in Bu...\n",
       "8   Throughout the program, you will have access t...\n",
       "9   You will also connect to Georgetown’s vast glo...\n",
       "10  Throughout your entire career, we remain dedic...\n",
       "11  *Signifies African American and Hispanic Ameri...\n",
       "12                     News Story, Student Experience\n",
       "13  Summer Internship Spotlight: Emerson Crockett ...\n",
       "14  \\nEach year, Georgetown McDonough students spe...\n",
       "15                                     August 9, 2023\n",
       "16                                         News Story\n",
       "17  Igor Smelyansky to Graduates: Lessons in Leade...\n",
       "18  \\nWhen Igor Smelyansky (MBA’05) graduated from...\n",
       "19                                       May 19, 2023\n",
       "20                                         News Story\n",
       "21  Jed Raynes (MSBA’23) on the Importance of Netw...\n",
       "22  \\nAs the spring semester comes to a close, Geo...\n",
       "23                                       May 11, 2023\n",
       "24  MSBAadmissions@georgetown.eduCall Today: (202)...\n",
       "25                                                   \n",
       "26                           Rafik B. Hariri Building\n",
       "27     37th and O Streets, N.W. Washington\\nDC\\n20057\n",
       "28                © 2023 McDonough School of Business\n",
       "29                                                   \n",
       "30                           Rafik B. Hariri Building\n",
       "31     37th and O Streets, N.W. Washington\\nDC\\n20057\n",
       "32                © 2023 McDonough School of Business"
      ]
     },
     "execution_count": 21,
     "metadata": {},
     "output_type": "execute_result"
    }
   ],
   "source": [
    "df"
   ]
  },
  {
   "cell_type": "markdown",
   "metadata": {},
   "source": [
    "### WordCloud"
   ]
  },
  {
   "cell_type": "code",
   "execution_count": 22,
   "metadata": {},
   "outputs": [],
   "source": [
    "import matplotlib.pyplot as plt\n",
    "from wordcloud import WordCloud"
   ]
  },
  {
   "cell_type": "code",
   "execution_count": 23,
   "metadata": {
    "scrolled": true
   },
   "outputs": [
    {
     "data": {
      "image/png": "[encoded data removed]",
      "text/plain": [
       "<Figure size 432x288 with 1 Axes>"
      ]
     },
     "metadata": {
      "needs_background": "light"
     },
     "output_type": "display_data"
    }
   ],
   "source": [
    "# Join all columns into a single sting, word size in wordcloud corresponds to word frequency\n",
    "wc = WordCloud().generate(\" \".join(df[\"text\"]))\n",
    "plt.axis(\"off\")\n",
    "plt.imshow(wc)\n",
    "plt.show()"
   ]
  },
  {
   "cell_type": "markdown",
   "metadata": {},
   "source": [
    "### Vectorize and plot word frequencies"
   ]
  },
  {
   "cell_type": "code",
   "execution_count": 24,
   "metadata": {},
   "outputs": [],
   "source": [
    "# All text from site represented as one row of data (one \"document\")\n",
    "df = pd.DataFrame({\"text\":\" \".join(df[\"text\"])},\n",
    "                           index=[0])"
   ]
  },
  {
   "cell_type": "code",
   "execution_count": 25,
   "metadata": {},
   "outputs": [
    {
     "data": {
      "text/html": [
       "<div>\n",
       "<style scoped>\n",
       "    .dataframe tbody tr th:only-of-type {\n",
       "        vertical-align: middle;\n",
       "    }\n",
       "\n",
       "    .dataframe tbody tr th {\n",
       "        vertical-align: top;\n",
       "    }\n",
       "\n",
       "    .dataframe thead th {\n",
       "        text-align: right;\n",
       "    }\n",
       "</style>\n",
       "<table border=\"1\" class=\"dataframe\">\n",
       "  <thead>\n",
       "    <tr style=\"text-align: right;\">\n",
       "      <th></th>\n",
       "      <th>text</th>\n",
       "    </tr>\n",
       "  </thead>\n",
       "  <tbody>\n",
       "    <tr>\n",
       "      <th>0</th>\n",
       "      <td>Discover how to create, share, and sustain val...</td>\n",
       "    </tr>\n",
       "  </tbody>\n",
       "</table>\n",
       "</div>"
      ],
      "text/plain": [
       "                                                text\n",
       "0  Discover how to create, share, and sustain val..."
      ]
     },
     "execution_count": 25,
     "metadata": {},
     "output_type": "execute_result"
    }
   ],
   "source": [
    "df"
   ]
  },
  {
   "cell_type": "code",
   "execution_count": 26,
   "metadata": {},
   "outputs": [],
   "source": [
    "# Import vectorizer\n",
    "from sklearn.feature_extraction.text import CountVectorizer"
   ]
  },
  {
   "cell_type": "code",
   "execution_count": 27,
   "metadata": {},
   "outputs": [],
   "source": [
    "# Instantiate vectorizer\n",
    "v = CountVectorizer(stop_words=\"english\")"
   ]
  },
  {
   "cell_type": "code",
   "execution_count": 28,
   "metadata": {},
   "outputs": [],
   "source": [
    "# Vectorize msba column of text (remove stopwords count frequency of unique words)\n",
    "dtm = v.fit_transform(df[\"text\"])"
   ]
  },
  {
   "cell_type": "code",
   "execution_count": 29,
   "metadata": {},
   "outputs": [],
   "source": [
    "# Create as datafrmae with dense arrays and use words a column names from vectorizer\n",
    "dtm_df = pd.DataFrame(dtm.toarray(),\n",
    "                     columns=v.get_feature_names_out())"
   ]
  },
  {
   "cell_type": "code",
   "execution_count": 30,
   "metadata": {},
   "outputs": [
    {
     "data": {
      "text/html": [
       "<div>\n",
       "<style scoped>\n",
       "    .dataframe tbody tr th:only-of-type {\n",
       "        vertical-align: middle;\n",
       "    }\n",
       "\n",
       "    .dataframe tbody tr th {\n",
       "        vertical-align: top;\n",
       "    }\n",
       "\n",
       "    .dataframe thead th {\n",
       "        text-align: right;\n",
       "    }\n",
       "</style>\n",
       "<table border=\"1\" class=\"dataframe\">\n",
       "  <thead>\n",
       "    <tr style=\"text-align: right;\">\n",
       "      <th></th>\n",
       "      <th>05</th>\n",
       "      <th>11</th>\n",
       "      <th>15</th>\n",
       "      <th>16</th>\n",
       "      <th>18</th>\n",
       "      <th>19</th>\n",
       "      <th>2005</th>\n",
       "      <th>20057</th>\n",
       "      <th>202</th>\n",
       "      <th>2023</th>\n",
       "      <th>...</th>\n",
       "      <th>washington</th>\n",
       "      <th>way</th>\n",
       "      <th>web</th>\n",
       "      <th>weekly</th>\n",
       "      <th>working</th>\n",
       "      <th>workshops</th>\n",
       "      <th>world</th>\n",
       "      <th>worldwide</th>\n",
       "      <th>year</th>\n",
       "      <th>york</th>\n",
       "    </tr>\n",
       "  </thead>\n",
       "  <tbody>\n",
       "    <tr>\n",
       "      <th>0</th>\n",
       "      <td>1</td>\n",
       "      <td>1</td>\n",
       "      <td>1</td>\n",
       "      <td>1</td>\n",
       "      <td>1</td>\n",
       "      <td>1</td>\n",
       "      <td>1</td>\n",
       "      <td>2</td>\n",
       "      <td>1</td>\n",
       "      <td>6</td>\n",
       "      <td>...</td>\n",
       "      <td>3</td>\n",
       "      <td>1</td>\n",
       "      <td>2</td>\n",
       "      <td>1</td>\n",
       "      <td>2</td>\n",
       "      <td>1</td>\n",
       "      <td>5</td>\n",
       "      <td>1</td>\n",
       "      <td>2</td>\n",
       "      <td>1</td>\n",
       "    </tr>\n",
       "  </tbody>\n",
       "</table>\n",
       "<p>1 rows × 297 columns</p>\n",
       "</div>"
      ],
      "text/plain": [
       "   05  11  15  16  18  19  2005  20057  202  2023  ...  washington  way  web  \\\n",
       "0   1   1   1   1   1   1     1      2    1     6  ...           3    1    2   \n",
       "\n",
       "   weekly  working  workshops  world  worldwide  year  york  \n",
       "0       1        2          1      5          1     2     1  \n",
       "\n",
       "[1 rows x 297 columns]"
      ]
     },
     "execution_count": 30,
     "metadata": {},
     "output_type": "execute_result"
    }
   ],
   "source": [
    "dtm_df"
   ]
  },
  {
   "cell_type": "code",
   "execution_count": 31,
   "metadata": {},
   "outputs": [],
   "source": [
    "# Transpose dataframe\n",
    "dtm_df = dtm_df.T"
   ]
  },
  {
   "cell_type": "code",
   "execution_count": 32,
   "metadata": {},
   "outputs": [],
   "source": [
    "# dtm_df"
   ]
  },
  {
   "cell_type": "code",
   "execution_count": 33,
   "metadata": {},
   "outputs": [],
   "source": [
    "# Reset index, replace column names with term and freq\n",
    "dtm_df.reset_index(inplace=True)\n",
    "dtm_df.columns = [\"term\", \"freq\"]"
   ]
  },
  {
   "cell_type": "code",
   "execution_count": 34,
   "metadata": {},
   "outputs": [
    {
     "data": {
      "text/html": [
       "<div>\n",
       "<style scoped>\n",
       "    .dataframe tbody tr th:only-of-type {\n",
       "        vertical-align: middle;\n",
       "    }\n",
       "\n",
       "    .dataframe tbody tr th {\n",
       "        vertical-align: top;\n",
       "    }\n",
       "\n",
       "    .dataframe thead th {\n",
       "        text-align: right;\n",
       "    }\n",
       "</style>\n",
       "<table border=\"1\" class=\"dataframe\">\n",
       "  <thead>\n",
       "    <tr style=\"text-align: right;\">\n",
       "      <th></th>\n",
       "      <th>term</th>\n",
       "      <th>freq</th>\n",
       "    </tr>\n",
       "  </thead>\n",
       "  <tbody>\n",
       "    <tr>\n",
       "      <th>40</th>\n",
       "      <td>business</td>\n",
       "      <td>14</td>\n",
       "    </tr>\n",
       "    <tr>\n",
       "      <th>127</th>\n",
       "      <td>georgetown</td>\n",
       "      <td>9</td>\n",
       "    </tr>\n",
       "    <tr>\n",
       "      <th>42</th>\n",
       "      <td>career</td>\n",
       "      <td>8</td>\n",
       "    </tr>\n",
       "    <tr>\n",
       "      <th>174</th>\n",
       "      <td>mcdonough</td>\n",
       "      <td>7</td>\n",
       "    </tr>\n",
       "    <tr>\n",
       "      <th>209</th>\n",
       "      <td>program</td>\n",
       "      <td>7</td>\n",
       "    </tr>\n",
       "    <tr>\n",
       "      <th>...</th>\n",
       "      <td>...</td>\n",
       "      <td>...</td>\n",
       "    </tr>\n",
       "    <tr>\n",
       "      <th>118</th>\n",
       "      <td>explore</td>\n",
       "      <td>1</td>\n",
       "    </tr>\n",
       "    <tr>\n",
       "      <th>121</th>\n",
       "      <td>financial</td>\n",
       "      <td>1</td>\n",
       "    </tr>\n",
       "    <tr>\n",
       "      <th>122</th>\n",
       "      <td>form</td>\n",
       "      <td>1</td>\n",
       "    </tr>\n",
       "    <tr>\n",
       "      <th>124</th>\n",
       "      <td>functions</td>\n",
       "      <td>1</td>\n",
       "    </tr>\n",
       "    <tr>\n",
       "      <th>296</th>\n",
       "      <td>york</td>\n",
       "      <td>1</td>\n",
       "    </tr>\n",
       "  </tbody>\n",
       "</table>\n",
       "<p>297 rows × 2 columns</p>\n",
       "</div>"
      ],
      "text/plain": [
       "           term  freq\n",
       "40     business    14\n",
       "127  georgetown     9\n",
       "42       career     8\n",
       "174   mcdonough     7\n",
       "209     program     7\n",
       "..          ...   ...\n",
       "118     explore     1\n",
       "121   financial     1\n",
       "122        form     1\n",
       "124   functions     1\n",
       "296        york     1\n",
       "\n",
       "[297 rows x 2 columns]"
      ]
     },
     "execution_count": 34,
     "metadata": {},
     "output_type": "execute_result"
    }
   ],
   "source": [
    "dtm_df.sort_values(by=\"freq\", ascending=False)"
   ]
  },
  {
   "cell_type": "code",
   "execution_count": 35,
   "metadata": {},
   "outputs": [],
   "source": [
    "# Import altair for data visualization\n",
    "import altair as alt"
   ]
  },
  {
   "cell_type": "code",
   "execution_count": 36,
   "metadata": {},
   "outputs": [
    {
     "data": {
      "text/html": [
       "\n",
       "<style>\n",
       "  #altair-viz-ac47e01f5bd241329204a00b4467d917.vega-embed {\n",
       "    width: 100%;\n",
       "    display: flex;\n",
       "  }\n",
       "\n",
       "  #altair-viz-ac47e01f5bd241329204a00b4467d917.vega-embed details,\n",
       "  #altair-viz-ac47e01f5bd241329204a00b4467d917.vega-embed details summary {\n",
       "    position: relative;\n",
       "  }\n",
       "</style>\n",
       "<div id=\"altair-viz-ac47e01f5bd241329204a00b4467d917\"></div>\n",
       "<script type=\"text/javascript\">\n",
       "  var VEGA_DEBUG = (typeof VEGA_DEBUG == \"undefined\") ? {} : VEGA_DEBUG;\n",
       "  (function(spec, embedOpt){\n",
       "    let outputDiv = document.currentScript.previousElementSibling;\n",
       "    if (outputDiv.id !== \"altair-viz-ac47e01f5bd241329204a00b4467d917\") {\n",
       "      outputDiv = document.getElementById(\"altair-viz-ac47e01f5bd241329204a00b4467d917\");\n",
       "    }\n",
       "    const paths = {\n",
       "      \"vega\": \"https://cdn.jsdelivr.net/npm/vega@5?noext\",\n",
       "      \"vega-lib\": \"https://cdn.jsdelivr.net/npm/vega-lib?noext\",\n",
       "      \"vega-lite\": \"https://cdn.jsdelivr.net/npm/vega-lite@5.14.1?noext\",\n",
       "      \"vega-embed\": \"https://cdn.jsdelivr.net/npm/vega-embed@6?noext\",\n",
       "    };\n",
       "\n",
       "    function maybeLoadScript(lib, version) {\n",
       "      var key = `${lib.replace(\"-\", \"\")}_version`;\n",
       "      return (VEGA_DEBUG[key] == version) ?\n",
       "        Promise.resolve(paths[lib]) :\n",
       "        new Promise(function(resolve, reject) {\n",
       "          var s = document.createElement('script');\n",
       "          document.getElementsByTagName(\"head\")[0].appendChild(s);\n",
       "          s.async = true;\n",
       "          s.onload = () => {\n",
       "            VEGA_DEBUG[key] = version;\n",
       "            return resolve(paths[lib]);\n",
       "          };\n",
       "          s.onerror = () => reject(`Error loading script: ${paths[lib]}`);\n",
       "          s.src = paths[lib];\n",
       "        });\n",
       "    }\n",
       "\n",
       "    function showError(err) {\n",
       "      outputDiv.innerHTML = `<div class=\"error\" style=\"color:red;\">${err}</div>`;\n",
       "      throw err;\n",
       "    }\n",
       "\n",
       "    function displayChart(vegaEmbed) {\n",
       "      vegaEmbed(outputDiv, spec, embedOpt)\n",
       "        .catch(err => showError(`Javascript Error: ${err.message}<br>This usually means there's a typo in your chart specification. See the javascript console for the full traceback.`));\n",
       "    }\n",
       "\n",
       "    if(typeof define === \"function\" && define.amd) {\n",
       "      requirejs.config({paths});\n",
       "      require([\"vega-embed\"], displayChart, err => showError(`Error loading script: ${err.message}`));\n",
       "    } else {\n",
       "      maybeLoadScript(\"vega\", \"5\")\n",
       "        .then(() => maybeLoadScript(\"vega-lite\", \"5.14.1\"))\n",
       "        .then(() => maybeLoadScript(\"vega-embed\", \"6\"))\n",
       "        .catch(showError)\n",
       "        .then(() => displayChart(vegaEmbed));\n",
       "    }\n",
       "  })({\"config\": {\"view\": {\"continuousWidth\": 300, \"continuousHeight\": 300}}, \"data\": {\"name\": \"data-678823865bc6975387ccbd9336be7784\"}, \"mark\": {\"type\": \"bar\"}, \"encoding\": {\"x\": {\"field\": \"freq\", \"type\": \"quantitative\"}, \"y\": {\"field\": \"term\", \"sort\": \"-x\", \"type\": \"nominal\"}}, \"$schema\": \"https://vega.github.io/schema/vega-lite/v5.14.1.json\", \"datasets\": {\"data-678823865bc6975387ccbd9336be7784\": [{\"term\": \"2023\", \"freq\": 6}, {\"term\": \"access\", \"freq\": 3}, {\"term\": \"american\", \"freq\": 5}, {\"term\": \"analytics\", \"freq\": 6}, {\"term\": \"aws\", \"freq\": 4}, {\"term\": \"build\", \"freq\": 3}, {\"term\": \"building\", \"freq\": 3}, {\"term\": \"business\", \"freq\": 14}, {\"term\": \"career\", \"freq\": 8}, {\"term\": \"class\", \"freq\": 6}, {\"term\": \"cohort\", \"freq\": 3}, {\"term\": \"connect\", \"freq\": 3}, {\"term\": \"data\", \"freq\": 6}, {\"term\": \"discover\", \"freq\": 3}, {\"term\": \"faculty\", \"freq\": 3}, {\"term\": \"georgetown\", \"freq\": 9}, {\"term\": \"learning\", \"freq\": 3}, {\"term\": \"mcdonough\", \"freq\": 7}, {\"term\": \"microsoft\", \"freq\": 4}, {\"term\": \"msba\", \"freq\": 3}, {\"term\": \"news\", \"freq\": 3}, {\"term\": \"program\", \"freq\": 7}, {\"term\": \"school\", \"freq\": 3}, {\"term\": \"services\", \"freq\": 4}, {\"term\": \"story\", \"freq\": 3}, {\"term\": \"students\", \"freq\": 5}, {\"term\": \"tools\", \"freq\": 5}, {\"term\": \"value\", \"freq\": 4}, {\"term\": \"washington\", \"freq\": 3}, {\"term\": \"world\", \"freq\": 5}]}}, {\"mode\": \"vega-lite\"});\n",
       "</script>"
      ],
      "text/plain": [
       "alt.Chart(...)"
      ]
     },
     "execution_count": 36,
     "metadata": {},
     "output_type": "execute_result"
    }
   ],
   "source": [
    "# Plot and sort y by descending x value\n",
    "alt.Chart(dtm_df[dtm_df[\"freq\"] > 2]).mark_bar().encode(alt.Y(\"term\", sort=\"-x\"),\n",
    "                                      x = \"freq\")"
   ]
  },
  {
   "cell_type": "markdown",
   "metadata": {},
   "source": [
    "### People routinely use mentions to understand the characteristics of entities and make decisions"
   ]
  },
  {
   "cell_type": "markdown",
   "metadata": {},
   "source": [
    "![compare](compare_rev.png)"
   ]
  },
  {
   "cell_type": "markdown",
   "metadata": {},
   "source": [
    "# Now let's look at the MBA site"
   ]
  },
  {
   "cell_type": "code",
   "execution_count": 37,
   "metadata": {},
   "outputs": [],
   "source": [
    "# 1 Pass URL\n",
    "html = requests.get(\"https://msb.georgetown.edu/mba/\").text\n",
    "\n",
    "# 2 Make it soup object\n",
    "soup_mba = BeautifulSoup(html, 'lxml')"
   ]
  },
  {
   "cell_type": "code",
   "execution_count": 38,
   "metadata": {},
   "outputs": [
    {
     "name": "stdout",
     "output_type": "stream",
     "text": [
      "Follow Us\n",
      "\n",
      " NEXT P \n",
      "\n",
      "You already know you’re capable of greatness. But wondering just how much you could achieve isn’t enough. To truly have an impact on the world, you have to go find out exactly what you’re made of. When you earn your MBA here, you’ll no longer wonder how much you could accomplish. Instead, you’ll know.\n",
      "\n",
      " NEXT P \n",
      "\n",
      "Quick Links\n",
      "\n",
      " NEXT P \n",
      "\n",
      "Returning users: Log in to continue or complete your application\n",
      "\n",
      " NEXT P \n",
      "\n",
      "Round 1 | October 2, 2023Round 2 | January 4, 2024Round 3 | March 26, 2024Round 4 | April 30, 2024\n",
      "\n",
      " NEXT P \n",
      "\n",
      "The Georgetown McDonough MBA has a curriculum designed to prepare you for the global stage, plus the unrivaled access that only Washington, D.C., can offer. Our program is the perfect launchpad for discovering your true strength.You’ll have access to the same engaging faculty, gain hands-on consulting knowledge through the Global Business Experience, build your network of over 200,000 alumni, and receive individualized support from the MBA Career Center. You’ll exceed the expectations you never thought were possible.\n",
      "\n",
      " NEXT P \n",
      "\n",
      "A new window of opportunities awaits as you take your next step in your career with our Full-time MBA program. \n",
      "\n",
      " NEXT P \n",
      "\n",
      "Meet your goal of completing an MBA while also prioritizing other important aspects of your career and life with our Flex MBA, now offered in either an in-person or online format.\n",
      "\n",
      " NEXT P \n",
      "\n",
      "Our Flex MBA Online combines the convenience of virtual classes with two week-long residencies in Washington, D.C. Learn how you can advance your career and benefit from our online format.\n",
      "\n",
      " NEXT P \n",
      "\n",
      "View how our Full-time and Flex MBA Programs deliver a challenging management degree that prepares students to lead global organizations. We encourage you to learn about our transformational curriculum, employment outcomes, and how we leverage our location in Washington, D.C. Read more about the resources we offer to support our diverse communities.\n",
      "\n",
      " NEXT P \n",
      "\n",
      "Forté: Virtual MBA ForumSep. 7\n",
      "\n",
      " NEXT P \n",
      "\n",
      "MBA Virtual Coffee Chat with Admissions AdvisorSep. 7\n",
      "\n",
      " NEXT P \n",
      "\n",
      "Flex MBA Online Information SessionSep. 12\n",
      "\n",
      " NEXT P \n",
      "\n",
      "Our MBA Career Center offers you vibrant on-campus recruitment events, career conferences, treks, and more. You’ll also have access to a career coach tailored to your unique career interests and join a sizable Georgetown McDonough network of highly successful alumni.\n",
      "\n",
      " NEXT P \n",
      "\n",
      "View the Full-time MBA Employment Report to see employment statistics from our graduates and internship statistics. Whether you are looking to switch careers or take on a leadership role in your current industry, we will connect you to new opportunities from some of the world’s top MBA recruiters and our powerful alumni network. We encourage you to learn more about the career resources that are available to help transform or advance your career.\n",
      "\n",
      " NEXT P \n",
      "\n",
      "We seek to foster a welcoming environment for every member of our community and create opportunities where we can learn from each other. Our diverse communities include spaces for our women, underrepresented U.S. minorities, veterans, international students, families and partners, and LGBTQ+.\n",
      "\n",
      " NEXT P \n",
      "\n",
      "You’ll learn alongside a cohort of students from diverse backgrounds taught by world-class professors who bring groundbreaking research, exciting international cases, and industry experience and connections into the classroom. And you’ll be supported by a full team of dedicated MBA program staff to help you achieve your academic and career-related goals. \n",
      "\n",
      " NEXT P \n",
      "\n",
      "News Story\n",
      "\n",
      " NEXT P \n",
      "\n",
      "Georgetown MBA Program Launches Applications for 2024 with Three New Essay Prompts\n",
      "\n",
      " NEXT P \n",
      "\n",
      "\n",
      "Georgetown MBA Admissions is now accepting Full-time, Flex MBA, and Flex MBA Online program applications for the fall 2024 semester. The application includes two new written and one new video essay…\n",
      "\n",
      " NEXT P \n",
      "\n",
      "August 29, 2023\n",
      "\n",
      " NEXT P \n",
      "\n",
      "News Story\n",
      "\n",
      " NEXT P \n",
      "\n",
      "Summer Internship Spotlight: Sofia Olivera (MBA’24): Multifamily Development Summer Associate at Hines\n",
      "\n",
      " NEXT P \n",
      "\n",
      "\n",
      "Each year, Georgetown McDonough students spend their summers in Washington, D.C., across the nation, and around the world working in corporate, nonprofit, and government organizations. Meet a few of…\n",
      "\n",
      " NEXT P \n",
      "\n",
      "August 16, 2023\n",
      "\n",
      " NEXT P \n",
      "\n",
      "In the News item\n",
      "\n",
      " NEXT P \n",
      "\n",
      "The Rise of Dual-Degree MBA Programs\n",
      "\n",
      " NEXT P \n",
      "\n",
      "In Washington D.C, the McDonough School of Business offers, among other dual-degree options, the MBA/Master of Public Policy, and MBA/Master of Science in Foreign Service at Georgetown University. Students do not take more classes at one time, rather, the time they are in school lengthens in years.\n",
      "\n",
      " NEXT P \n",
      "\n",
      "July 20, 2023\n",
      "\n",
      " NEXT P \n",
      "\n",
      " \n",
      "\n",
      " NEXT P \n",
      "\n",
      "\n",
      "\n",
      " NEXT P \n",
      "\n",
      "Rafik B. Hariri Building\n",
      "\n",
      " NEXT P \n",
      "\n",
      "37th and O Streets, N.W. Washington\n",
      "DC\n",
      "20057\n",
      "\n",
      " NEXT P \n",
      "\n",
      "© 2023 McDonough School of Business\n",
      "\n",
      " NEXT P \n",
      "\n",
      "\n",
      "\n",
      " NEXT P \n",
      "\n",
      "Rafik B. Hariri Building\n",
      "\n",
      " NEXT P \n",
      "\n",
      "37th and O Streets, N.W. Washington\n",
      "DC\n",
      "20057\n",
      "\n",
      " NEXT P \n",
      "\n",
      "© 2023 McDonough School of Business\n",
      "\n",
      " NEXT P \n",
      "\n"
     ]
    }
   ],
   "source": [
    "for each in soup_mba.find_all(\"p\"):\n",
    "    print(each.text)\n",
    "    print(\"\\n NEXT P \\n\")"
   ]
  },
  {
   "cell_type": "code",
   "execution_count": 39,
   "metadata": {},
   "outputs": [],
   "source": [
    "# 3 Extract all the content with p tag and save as a list\n",
    "mba_p = [each.text for each in soup_mba.find_all(\"p\")]"
   ]
  },
  {
   "cell_type": "code",
   "execution_count": 40,
   "metadata": {},
   "outputs": [],
   "source": [
    "# Convert list of content to dataframe\n",
    "df = pd.DataFrame(mba_p,\n",
    "                 columns=[\"text\"])"
   ]
  },
  {
   "cell_type": "markdown",
   "metadata": {},
   "source": [
    "### WordCloud"
   ]
  },
  {
   "cell_type": "code",
   "execution_count": 41,
   "metadata": {},
   "outputs": [],
   "source": [
    "import matplotlib.pyplot as plt\n",
    "from wordcloud import WordCloud"
   ]
  },
  {
   "cell_type": "code",
   "execution_count": 42,
   "metadata": {},
   "outputs": [
    {
     "data": {
      "image/png": "[encoded data removed]",
      "text/plain": [
       "<Figure size 432x288 with 1 Axes>"
      ]
     },
     "metadata": {
      "needs_background": "light"
     },
     "output_type": "display_data"
    }
   ],
   "source": [
    "# Join all columns into a single sting, word size in wordcloud corresponds to word frequency\n",
    "wc = WordCloud().generate(\" \".join(df[\"text\"]))\n",
    "plt.axis(\"off\")\n",
    "plt.imshow(wc)\n",
    "plt.show()"
   ]
  },
  {
   "cell_type": "markdown",
   "metadata": {},
   "source": [
    "### Vectorize and plot word frequencies"
   ]
  },
  {
   "cell_type": "code",
   "execution_count": 43,
   "metadata": {},
   "outputs": [],
   "source": [
    "# All text from site as one row of data (one \"document\")\n",
    "df = pd.DataFrame({\"text\":\" \".join(df[\"text\"])},\n",
    "                           index=[0])"
   ]
  },
  {
   "cell_type": "code",
   "execution_count": 44,
   "metadata": {},
   "outputs": [],
   "source": [
    "# Import vectorizer\n",
    "from sklearn.feature_extraction.text import CountVectorizer"
   ]
  },
  {
   "cell_type": "code",
   "execution_count": 45,
   "metadata": {},
   "outputs": [],
   "source": [
    "# Instantiate vectorizer\n",
    "v = CountVectorizer(stop_words=\"english\")"
   ]
  },
  {
   "cell_type": "code",
   "execution_count": 46,
   "metadata": {},
   "outputs": [],
   "source": [
    "# Vectorize msba column of text (remove stopwords count frequency of unique words)\n",
    "dtm = v.fit_transform(df[\"text\"])"
   ]
  },
  {
   "cell_type": "code",
   "execution_count": 47,
   "metadata": {},
   "outputs": [],
   "source": [
    "# Create as datafrmae with dense arrays and use words a column names from vectorizer\n",
    "dtm_df = pd.DataFrame(dtm.toarray(),\n",
    "                     columns=v.get_feature_names_out())"
   ]
  },
  {
   "cell_type": "code",
   "execution_count": 48,
   "metadata": {},
   "outputs": [],
   "source": [
    "# Transpose dataframe\n",
    "dtm_df = dtm_df.T"
   ]
  },
  {
   "cell_type": "code",
   "execution_count": 49,
   "metadata": {},
   "outputs": [
    {
     "data": {
      "text/html": [
       "<div>\n",
       "<style scoped>\n",
       "    .dataframe tbody tr th:only-of-type {\n",
       "        vertical-align: middle;\n",
       "    }\n",
       "\n",
       "    .dataframe tbody tr th {\n",
       "        vertical-align: top;\n",
       "    }\n",
       "\n",
       "    .dataframe thead th {\n",
       "        text-align: right;\n",
       "    }\n",
       "</style>\n",
       "<table border=\"1\" class=\"dataframe\">\n",
       "  <thead>\n",
       "    <tr style=\"text-align: right;\">\n",
       "      <th></th>\n",
       "      <th>0</th>\n",
       "    </tr>\n",
       "  </thead>\n",
       "  <tbody>\n",
       "    <tr>\n",
       "      <th>000</th>\n",
       "      <td>1</td>\n",
       "    </tr>\n",
       "    <tr>\n",
       "      <th>12</th>\n",
       "      <td>1</td>\n",
       "    </tr>\n",
       "    <tr>\n",
       "      <th>16</th>\n",
       "      <td>1</td>\n",
       "    </tr>\n",
       "    <tr>\n",
       "      <th>20</th>\n",
       "      <td>1</td>\n",
       "    </tr>\n",
       "    <tr>\n",
       "      <th>200</th>\n",
       "      <td>1</td>\n",
       "    </tr>\n",
       "    <tr>\n",
       "      <th>...</th>\n",
       "      <td>...</td>\n",
       "    </tr>\n",
       "    <tr>\n",
       "      <th>working</th>\n",
       "      <td>1</td>\n",
       "    </tr>\n",
       "    <tr>\n",
       "      <th>world</th>\n",
       "      <td>4</td>\n",
       "    </tr>\n",
       "    <tr>\n",
       "      <th>written</th>\n",
       "      <td>1</td>\n",
       "    </tr>\n",
       "    <tr>\n",
       "      <th>year</th>\n",
       "      <td>1</td>\n",
       "    </tr>\n",
       "    <tr>\n",
       "      <th>years</th>\n",
       "      <td>1</td>\n",
       "    </tr>\n",
       "  </tbody>\n",
       "</table>\n",
       "<p>259 rows × 1 columns</p>\n",
       "</div>"
      ],
      "text/plain": [
       "         0\n",
       "000      1\n",
       "12       1\n",
       "16       1\n",
       "20       1\n",
       "200      1\n",
       "...     ..\n",
       "working  1\n",
       "world    4\n",
       "written  1\n",
       "year     1\n",
       "years    1\n",
       "\n",
       "[259 rows x 1 columns]"
      ]
     },
     "execution_count": 49,
     "metadata": {},
     "output_type": "execute_result"
    }
   ],
   "source": [
    "dtm_df"
   ]
  },
  {
   "cell_type": "code",
   "execution_count": 50,
   "metadata": {},
   "outputs": [],
   "source": [
    "# Reset index, replace column names with term and freq\n",
    "dtm_df.reset_index(inplace=True)\n",
    "dtm_df.columns = [\"term\", \"freq\"]"
   ]
  },
  {
   "cell_type": "code",
   "execution_count": 51,
   "metadata": {},
   "outputs": [],
   "source": [
    "# Import altair for data viz\n",
    "import altair as alt"
   ]
  },
  {
   "cell_type": "code",
   "execution_count": 52,
   "metadata": {},
   "outputs": [
    {
     "data": {
      "text/html": [
       "\n",
       "<style>\n",
       "  #altair-viz-d2f8ebf7321244c18cbbd9a2e38a6555.vega-embed {\n",
       "    width: 100%;\n",
       "    display: flex;\n",
       "  }\n",
       "\n",
       "  #altair-viz-d2f8ebf7321244c18cbbd9a2e38a6555.vega-embed details,\n",
       "  #altair-viz-d2f8ebf7321244c18cbbd9a2e38a6555.vega-embed details summary {\n",
       "    position: relative;\n",
       "  }\n",
       "</style>\n",
       "<div id=\"altair-viz-d2f8ebf7321244c18cbbd9a2e38a6555\"></div>\n",
       "<script type=\"text/javascript\">\n",
       "  var VEGA_DEBUG = (typeof VEGA_DEBUG == \"undefined\") ? {} : VEGA_DEBUG;\n",
       "  (function(spec, embedOpt){\n",
       "    let outputDiv = document.currentScript.previousElementSibling;\n",
       "    if (outputDiv.id !== \"altair-viz-d2f8ebf7321244c18cbbd9a2e38a6555\") {\n",
       "      outputDiv = document.getElementById(\"altair-viz-d2f8ebf7321244c18cbbd9a2e38a6555\");\n",
       "    }\n",
       "    const paths = {\n",
       "      \"vega\": \"https://cdn.jsdelivr.net/npm/vega@5?noext\",\n",
       "      \"vega-lib\": \"https://cdn.jsdelivr.net/npm/vega-lib?noext\",\n",
       "      \"vega-lite\": \"https://cdn.jsdelivr.net/npm/vega-lite@5.14.1?noext\",\n",
       "      \"vega-embed\": \"https://cdn.jsdelivr.net/npm/vega-embed@6?noext\",\n",
       "    };\n",
       "\n",
       "    function maybeLoadScript(lib, version) {\n",
       "      var key = `${lib.replace(\"-\", \"\")}_version`;\n",
       "      return (VEGA_DEBUG[key] == version) ?\n",
       "        Promise.resolve(paths[lib]) :\n",
       "        new Promise(function(resolve, reject) {\n",
       "          var s = document.createElement('script');\n",
       "          document.getElementsByTagName(\"head\")[0].appendChild(s);\n",
       "          s.async = true;\n",
       "          s.onload = () => {\n",
       "            VEGA_DEBUG[key] = version;\n",
       "            return resolve(paths[lib]);\n",
       "          };\n",
       "          s.onerror = () => reject(`Error loading script: ${paths[lib]}`);\n",
       "          s.src = paths[lib];\n",
       "        });\n",
       "    }\n",
       "\n",
       "    function showError(err) {\n",
       "      outputDiv.innerHTML = `<div class=\"error\" style=\"color:red;\">${err}</div>`;\n",
       "      throw err;\n",
       "    }\n",
       "\n",
       "    function displayChart(vegaEmbed) {\n",
       "      vegaEmbed(outputDiv, spec, embedOpt)\n",
       "        .catch(err => showError(`Javascript Error: ${err.message}<br>This usually means there's a typo in your chart specification. See the javascript console for the full traceback.`));\n",
       "    }\n",
       "\n",
       "    if(typeof define === \"function\" && define.amd) {\n",
       "      requirejs.config({paths});\n",
       "      require([\"vega-embed\"], displayChart, err => showError(`Error loading script: ${err.message}`));\n",
       "    } else {\n",
       "      maybeLoadScript(\"vega\", \"5\")\n",
       "        .then(() => maybeLoadScript(\"vega-lite\", \"5.14.1\"))\n",
       "        .then(() => maybeLoadScript(\"vega-embed\", \"6\"))\n",
       "        .catch(showError)\n",
       "        .then(() => displayChart(vegaEmbed));\n",
       "    }\n",
       "  })({\"config\": {\"view\": {\"continuousWidth\": 300, \"continuousHeight\": 300}}, \"data\": {\"name\": \"data-74b43ae3e8778c7d5714985ee4c5414f\"}, \"mark\": {\"type\": \"bar\"}, \"encoding\": {\"x\": {\"field\": \"freq\", \"type\": \"quantitative\"}, \"y\": {\"field\": \"term\", \"sort\": \"-x\", \"type\": \"nominal\"}}, \"$schema\": \"https://vega.github.io/schema/vega-lite/v5.14.1.json\", \"datasets\": {\"data-74b43ae3e8778c7d5714985ee4c5414f\": [{\"term\": \"2023\", \"freq\": 5}, {\"term\": \"2024\", \"freq\": 3}, {\"term\": \"access\", \"freq\": 3}, {\"term\": \"alumni\", \"freq\": 3}, {\"term\": \"business\", \"freq\": 4}, {\"term\": \"career\", \"freq\": 11}, {\"term\": \"degree\", \"freq\": 3}, {\"term\": \"diverse\", \"freq\": 3}, {\"term\": \"employment\", \"freq\": 3}, {\"term\": \"flex\", \"freq\": 6}, {\"term\": \"georgetown\", \"freq\": 6}, {\"term\": \"global\", \"freq\": 3}, {\"term\": \"learn\", \"freq\": 5}, {\"term\": \"ll\", \"freq\": 7}, {\"term\": \"mba\", \"freq\": 23}, {\"term\": \"mcdonough\", \"freq\": 6}, {\"term\": \"network\", \"freq\": 3}, {\"term\": \"new\", \"freq\": 5}, {\"term\": \"news\", \"freq\": 3}, {\"term\": \"online\", \"freq\": 5}, {\"term\": \"opportunities\", \"freq\": 3}, {\"term\": \"program\", \"freq\": 5}, {\"term\": \"school\", \"freq\": 4}, {\"term\": \"students\", \"freq\": 5}, {\"term\": \"time\", \"freq\": 6}, {\"term\": \"virtual\", \"freq\": 3}, {\"term\": \"washington\", \"freq\": 7}, {\"term\": \"world\", \"freq\": 4}]}}, {\"mode\": \"vega-lite\"});\n",
       "</script>"
      ],
      "text/plain": [
       "alt.Chart(...)"
      ]
     },
     "execution_count": 52,
     "metadata": {},
     "output_type": "execute_result"
    }
   ],
   "source": [
    "# Plot and sort y by descending x value\n",
    "alt.Chart(dtm_df[dtm_df[\"freq\"] > 2]).mark_bar().encode(alt.Y(\"term\", sort=\"-x\"),\n",
    "                                      x = \"freq\")"
   ]
  },
  {
   "cell_type": "markdown",
   "metadata": {},
   "source": [
    "## Making decisions\n",
    "+ People/customers often make decisions by comparing the attributes associated with the options and choosing the one that aligns with their preferences or an organization's goals\n",
    "+ We can see this with how google organizes its reviews and what people mention in their reviews"
   ]
  },
  {
   "cell_type": "markdown",
   "metadata": {},
   "source": [
    "# Bringing it all together\n",
    "+ **Goal**: Data-driven way to efficiently compare programs at McDonough School Business\n",
    "+ To do so, we will define a function that:\n",
    "1. Issues a GET request to MSB's website based on the program that specify\n",
    "2. Converts to a soup object to parse the raw content\n",
    "3. Extracts the raw text from all \"p\" tags on the page and creates a dataframe with results\n",
    "4. Instantiates a vectorizer to vectorize the text based on ngram parameters we specify\n",
    "5. Vectorizes the text, creates a dataframe with terms and frequencies\n",
    "6. Transposes the dataframe and renames columns so it is two columns: text, freq\n",
    "7. Uses the dataframe to create an ordered plot in descending order of unique terms mentioned more than 2 times\n",
    "8. Returns the plot"
   ]
  },
  {
   "cell_type": "code",
   "execution_count": 53,
   "metadata": {},
   "outputs": [],
   "source": [
    "def scrape_msb_plot(program, ngram_min, ngram_max):\n",
    "    \"\"\"\n",
    "    Function to scrape MSB program website, vectorize content and plot most frequently used words\n",
    "    \n",
    "    Parameters\n",
    "    ----------\n",
    "    program (str): \n",
    "        graduate program at McDonough School of Business\n",
    "    ngram_min (int): \n",
    "        minimum n-gram when vectorizing\n",
    "    ngram_max (int): \n",
    "        maximum n-gram when vectorizing\n",
    "        \n",
    "    Returns\n",
    "    ----------\n",
    "    altair plot\n",
    "    \"\"\"\n",
    "    \n",
    "    import requests\n",
    "    from bs4 import BeautifulSoup\n",
    "    import pandas as pd\n",
    "    from sklearn.feature_extraction.text import CountVectorizer\n",
    "    import altair as alt\n",
    "    \n",
    "    # 1. Issues a GET request to MSB's website based onthe program that specify\n",
    "    html = requests.get(f\"https://msb.georgetown.edu/{program}/\").text\n",
    "    \n",
    "    # 2 Converts to a soup object to parse\n",
    "    soup = BeautifulSoup(html, 'lxml')\n",
    "    \n",
    "    # 3 Extracts the raw text from all \"p\" tags on the page and creates a dataframe with results\n",
    "    content = [each.text for each in soup.find_all(\"p\")]\n",
    "    prog_text = \" \".join(content) \n",
    "    \n",
    "    df = pd.DataFrame({\n",
    "    \"text\": [prog_text]})\n",
    "    \n",
    "    # 4 Instantiates a vectorizer to vectorize the text (extract features) based on ngram parameters we specify\n",
    "    v = CountVectorizer(stop_words=\"english\",\n",
    "                       ngram_range=(ngram_min, ngram_max))\n",
    "    \n",
    "    # 5 Vectorizes the text, creates a dataframe with terms and frequencies\n",
    "    dtm = v.fit_transform(df[\"text\"])\n",
    "    \n",
    "    dtm_df = pd.DataFrame(dtm.toarray(),\n",
    "                     columns=v.get_feature_names_out())\n",
    "    \n",
    "    # 6 Transposes the dataframe, make index a column, and renames columns so it is two columns: text, freq\n",
    "    dtm_df = dtm_df.T\n",
    "    dtm_df.reset_index(inplace=True)\n",
    "    dtm_df.columns = [\"term\", \"freq\"]\n",
    "    \n",
    "    # 7 Uses the dataframe to create an ordered plot in descending order of unique terms mentioned more than 2 times\n",
    "    plot = alt.Chart(dtm_df[dtm_df[\"freq\"] > 2]).mark_bar().encode(alt.Y(\"term\", sort=\"-x\"),\n",
    "                                      x = \"freq\")\n",
    "    \n",
    "    # 8 Returns the plot\n",
    "    return plot\n",
    "    "
   ]
  },
  {
   "cell_type": "code",
   "execution_count": 54,
   "metadata": {},
   "outputs": [
    {
     "data": {
      "text/html": [
       "\n",
       "<div id=\"altair-viz-a89ac9cac3d84939af0aa239f3ccca51\"></div>\n",
       "<script type=\"text/javascript\">\n",
       "  (function(spec, embedOpt){\n",
       "    let outputDiv = document.currentScript.previousElementSibling;\n",
       "    if (outputDiv.id !== \"altair-viz-a89ac9cac3d84939af0aa239f3ccca51\") {\n",
       "      outputDiv = document.getElementById(\"altair-viz-a89ac9cac3d84939af0aa239f3ccca51\");\n",
       "    }\n",
       "    const paths = {\n",
       "      \"vega\": \"https://cdn.jsdelivr.net/npm//vega@5?noext\",\n",
       "      \"vega-lib\": \"https://cdn.jsdelivr.net/npm//vega-lib?noext\",\n",
       "      \"vega-lite\": \"https://cdn.jsdelivr.net/npm//vega-lite@4.8.1?noext\",\n",
       "      \"vega-embed\": \"https://cdn.jsdelivr.net/npm//vega-embed@6?noext\",\n",
       "    };\n",
       "\n",
       "    function loadScript(lib) {\n",
       "      return new Promise(function(resolve, reject) {\n",
       "        var s = document.createElement('script');\n",
       "        s.src = paths[lib];\n",
       "        s.async = true;\n",
       "        s.onload = () => resolve(paths[lib]);\n",
       "        s.onerror = () => reject(`Error loading script: ${paths[lib]}`);\n",
       "        document.getElementsByTagName(\"head\")[0].appendChild(s);\n",
       "      });\n",
       "    }\n",
       "\n",
       "    function showError(err) {\n",
       "      outputDiv.innerHTML = `<div class=\"error\" style=\"color:red;\">${err}</div>`;\n",
       "      throw err;\n",
       "    }\n",
       "\n",
       "    function displayChart(vegaEmbed) {\n",
       "      vegaEmbed(outputDiv, spec, embedOpt)\n",
       "        .catch(err => showError(`Javascript Error: ${err.message}<br>This usually means there's a typo in your chart specification. See the javascript console for the full traceback.`));\n",
       "    }\n",
       "\n",
       "    if(typeof define === \"function\" && define.amd) {\n",
       "      requirejs.config({paths});\n",
       "      require([\"vega-embed\"], displayChart, err => showError(`Error loading script: ${err.message}`));\n",
       "    } else if (typeof vegaEmbed === \"function\") {\n",
       "      displayChart(vegaEmbed);\n",
       "    } else {\n",
       "      loadScript(\"vega\")\n",
       "        .then(() => loadScript(\"vega-lite\"))\n",
       "        .then(() => loadScript(\"vega-embed\"))\n",
       "        .catch(showError)\n",
       "        .then(() => displayChart(vegaEmbed));\n",
       "    }\n",
       "  })({\"config\": {\"view\": {\"continuousWidth\": 400, \"continuousHeight\": 300}}, \"data\": {\"name\": \"data-653c26dac823ac3c421f649b9fa5c9d6\"}, \"mark\": \"bar\", \"encoding\": {\"x\": {\"type\": \"quantitative\", \"field\": \"freq\"}, \"y\": {\"type\": \"nominal\", \"field\": \"term\", \"sort\": \"-x\"}}, \"$schema\": \"https://vega.github.io/schema/vega-lite/v4.8.1.json\", \"datasets\": {\"data-653c26dac823ac3c421f649b9fa5c9d6\": [{\"term\": \"10\", \"freq\": 3}, {\"term\": \"12\", \"freq\": 3}, {\"term\": \"2023\", \"freq\": 6}, {\"term\": \"arts\", \"freq\": 3}, {\"term\": \"blends\", \"freq\": 3}, {\"term\": \"business\", \"freq\": 14}, {\"term\": \"et\", \"freq\": 6}, {\"term\": \"foreign\", \"freq\": 6}, {\"term\": \"georgetown\", \"freq\": 7}, {\"term\": \"highly\", \"freq\": 3}, {\"term\": \"ibp\", \"freq\": 5}, {\"term\": \"international\", \"freq\": 8}, {\"term\": \"locationonline\", \"freq\": 6}, {\"term\": \"ma\", \"freq\": 5}, {\"term\": \"master\", \"freq\": 3}, {\"term\": \"mcdonough\", \"freq\": 6}, {\"term\": \"new\", \"freq\": 3}, {\"term\": \"news\", \"freq\": 4}, {\"term\": \"person\", \"freq\": 3}, {\"term\": \"pm\", \"freq\": 5}, {\"term\": \"policy\", \"freq\": 5}, {\"term\": \"program\", \"freq\": 6}, {\"term\": \"regarded\", \"freq\": 3}, {\"term\": \"school\", \"freq\": 15}, {\"term\": \"service\", \"freq\": 6}, {\"term\": \"story\", \"freq\": 4}, {\"term\": \"strengths\", \"freq\": 3}, {\"term\": \"tier\", \"freq\": 3}, {\"term\": \"university\", \"freq\": 3}, {\"term\": \"walsh\", \"freq\": 3}, {\"term\": \"weekly\", \"freq\": 3}, {\"term\": \"world\", \"freq\": 5}]}}, {\"mode\": \"vega-lite\"});\n",
       "</script>"
      ],
      "text/plain": [
       "alt.Chart(...)"
      ]
     },
     "execution_count": 54,
     "metadata": {},
     "output_type": "execute_result"
    }
   ],
   "source": [
    "# Other MSB Programs:\n",
    "# masters-global-real-assets\n",
    "# masters-in-management\n",
    "# masters-international-business-policy\n",
    "\n",
    "scrape_msb_plot(\"masters-international-business-policy\", ngram_min=1, ngram_max=1)"
   ]
  },
  {
   "cell_type": "code",
   "execution_count": null,
   "metadata": {},
   "outputs": [],
   "source": []
  },
  {
   "cell_type": "code",
   "execution_count": null,
   "metadata": {},
   "outputs": [],
   "source": []
  },
  {
   "cell_type": "code",
   "execution_count": null,
   "metadata": {},
   "outputs": [],
   "source": [
    "scrape_msb_plot(\"mba\", ngram_min=3, ngram_max=3)"
   ]
  },
  {
   "cell_type": "code",
   "execution_count": null,
   "metadata": {},
   "outputs": [],
   "source": [
    "help(scrape_msb_plot)"
   ]
  },
  {
   "cell_type": "code",
   "execution_count": null,
   "metadata": {},
   "outputs": [],
   "source": []
  }
 ],
 "metadata": {
  "kernelspec": {
   "display_name": "Python 3",
   "language": "python",
   "name": "python3"
  },
  "language_info": {
   "codemirror_mode": {
    "name": "ipython",
    "version": 3
   },
   "file_extension": ".py",
   "mimetype": "text/x-python",
   "name": "python",
   "nbconvert_exporter": "python",
   "pygments_lexer": "ipython3",
   "version": "3.10.12"
  }
 },
 "nbformat": 4,
 "nbformat_minor": 4
}
