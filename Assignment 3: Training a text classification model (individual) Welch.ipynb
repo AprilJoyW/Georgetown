{
 "cells": [
  {
   "cell_type": "code",
   "execution_count": 1,
   "id": "cd9af276",
   "metadata": {},
   "outputs": [],
   "source": [
    "#Download basic packages\n",
    "import pandas as pd\n",
    "import numpy as np\n",
    "import sklearn"
   ]
  },
  {
   "cell_type": "markdown",
   "id": "0d5f04a9",
   "metadata": {},
   "source": [
    "1. Ingest and process the customer reviews dataset"
   ]
  },
  {
   "cell_type": "code",
   "execution_count": 2,
   "id": "05c1c088",
   "metadata": {},
   "outputs": [
    {
     "data": {
      "text/html": [
       "<div>\n",
       "<style scoped>\n",
       "    .dataframe tbody tr th:only-of-type {\n",
       "        vertical-align: middle;\n",
       "    }\n",
       "\n",
       "    .dataframe tbody tr th {\n",
       "        vertical-align: top;\n",
       "    }\n",
       "\n",
       "    .dataframe thead th {\n",
       "        text-align: right;\n",
       "    }\n",
       "</style>\n",
       "<table border=\"1\" class=\"dataframe\">\n",
       "  <thead>\n",
       "    <tr style=\"text-align: right;\">\n",
       "      <th></th>\n",
       "      <th>reviewContent</th>\n",
       "      <th>rating</th>\n",
       "    </tr>\n",
       "  </thead>\n",
       "  <tbody>\n",
       "    <tr>\n",
       "      <th>0</th>\n",
       "      <td>Let me begin by saying that there are two kind...</td>\n",
       "      <td>5</td>\n",
       "    </tr>\n",
       "    <tr>\n",
       "      <th>1</th>\n",
       "      <td>The only place inside the Loop that you can st...</td>\n",
       "      <td>3</td>\n",
       "    </tr>\n",
       "    <tr>\n",
       "      <th>2</th>\n",
       "      <td>I have walked by the Tokyo Hotel countless tim...</td>\n",
       "      <td>5</td>\n",
       "    </tr>\n",
       "    <tr>\n",
       "      <th>3</th>\n",
       "      <td>If you are considering staying here, watch thi...</td>\n",
       "      <td>1</td>\n",
       "    </tr>\n",
       "    <tr>\n",
       "      <th>4</th>\n",
       "      <td>This place is disgusting, absolutely horrible,...</td>\n",
       "      <td>3</td>\n",
       "    </tr>\n",
       "  </tbody>\n",
       "</table>\n",
       "</div>"
      ],
      "text/plain": [
       "                                       reviewContent  rating\n",
       "0  Let me begin by saying that there are two kind...       5\n",
       "1  The only place inside the Loop that you can st...       3\n",
       "2  I have walked by the Tokyo Hotel countless tim...       5\n",
       "3  If you are considering staying here, watch thi...       1\n",
       "4  This place is disgusting, absolutely horrible,...       3"
      ]
     },
     "execution_count": 2,
     "metadata": {},
     "output_type": "execute_result"
    }
   ],
   "source": [
    "#import reviews\n",
    "df = pd.read_csv(\"customer_reviews.csv\", index_col=0)\n",
    "df.head()"
   ]
  },
  {
   "cell_type": "markdown",
   "id": "2bcfdc4e",
   "metadata": {},
   "source": [
    "2. Create a binary class target column called pos_rev that is 1 if the rating is 4 or 5 and 0 otherwise. Set this as the target column (i.e. y)."
   ]
  },
  {
   "cell_type": "code",
   "execution_count": 3,
   "id": "2c3c05ef",
   "metadata": {},
   "outputs": [
    {
     "data": {
      "text/html": [
       "<div>\n",
       "<style scoped>\n",
       "    .dataframe tbody tr th:only-of-type {\n",
       "        vertical-align: middle;\n",
       "    }\n",
       "\n",
       "    .dataframe tbody tr th {\n",
       "        vertical-align: top;\n",
       "    }\n",
       "\n",
       "    .dataframe thead th {\n",
       "        text-align: right;\n",
       "    }\n",
       "</style>\n",
       "<table border=\"1\" class=\"dataframe\">\n",
       "  <thead>\n",
       "    <tr style=\"text-align: right;\">\n",
       "      <th></th>\n",
       "      <th>reviewContent</th>\n",
       "      <th>rating</th>\n",
       "      <th>pos_rev</th>\n",
       "    </tr>\n",
       "  </thead>\n",
       "  <tbody>\n",
       "    <tr>\n",
       "      <th>0</th>\n",
       "      <td>Let me begin by saying that there are two kind...</td>\n",
       "      <td>5</td>\n",
       "      <td>1</td>\n",
       "    </tr>\n",
       "    <tr>\n",
       "      <th>1</th>\n",
       "      <td>The only place inside the Loop that you can st...</td>\n",
       "      <td>3</td>\n",
       "      <td>0</td>\n",
       "    </tr>\n",
       "    <tr>\n",
       "      <th>2</th>\n",
       "      <td>I have walked by the Tokyo Hotel countless tim...</td>\n",
       "      <td>5</td>\n",
       "      <td>1</td>\n",
       "    </tr>\n",
       "    <tr>\n",
       "      <th>3</th>\n",
       "      <td>If you are considering staying here, watch thi...</td>\n",
       "      <td>1</td>\n",
       "      <td>0</td>\n",
       "    </tr>\n",
       "    <tr>\n",
       "      <th>4</th>\n",
       "      <td>This place is disgusting, absolutely horrible,...</td>\n",
       "      <td>3</td>\n",
       "      <td>0</td>\n",
       "    </tr>\n",
       "  </tbody>\n",
       "</table>\n",
       "</div>"
      ],
      "text/plain": [
       "                                       reviewContent  rating  pos_rev\n",
       "0  Let me begin by saying that there are two kind...       5        1\n",
       "1  The only place inside the Loop that you can st...       3        0\n",
       "2  I have walked by the Tokyo Hotel countless tim...       5        1\n",
       "3  If you are considering staying here, watch thi...       1        0\n",
       "4  This place is disgusting, absolutely horrible,...       3        0"
      ]
     },
     "execution_count": 3,
     "metadata": {},
     "output_type": "execute_result"
    }
   ],
   "source": [
    "#Create Binary\n",
    "df[\"pos_rev\"]= np.where(df[\"rating\"] >= 4, 1, 0)\n",
    "df.head()"
   ]
  },
  {
   "cell_type": "code",
   "execution_count": 4,
   "id": "5b86432e",
   "metadata": {},
   "outputs": [
    {
     "data": {
      "text/plain": [
       "pos_rev\n",
       "1    1550\n",
       "0     950\n",
       "Name: count, dtype: int64"
      ]
     },
     "execution_count": 4,
     "metadata": {},
     "output_type": "execute_result"
    }
   ],
   "source": [
    "#Count Reviews\n",
    "df[\"pos_rev\"].value_counts()"
   ]
  },
  {
   "cell_type": "markdown",
   "id": "a6e2d753",
   "metadata": {},
   "source": [
    "3. Split the data into train and test sets with an 80/20 split."
   ]
  },
  {
   "cell_type": "code",
   "execution_count": 5,
   "id": "6025d95f",
   "metadata": {},
   "outputs": [],
   "source": [
    "from sklearn.model_selection import train_test_split"
   ]
  },
  {
   "cell_type": "code",
   "execution_count": 6,
   "id": "db605c69",
   "metadata": {},
   "outputs": [],
   "source": [
    "y = df[\"pos_rev\"]"
   ]
  },
  {
   "cell_type": "code",
   "execution_count": 7,
   "id": "0e181904",
   "metadata": {},
   "outputs": [],
   "source": [
    "#Split data\n",
    "X_train, X_test, y_train, y_test = train_test_split(df[\"reviewContent\"],\n",
    "                                                   y,\n",
    "                                                   test_size=0.20,\n",
    "                                                   random_state=987)"
   ]
  },
  {
   "cell_type": "markdown",
   "id": "7789d1d4",
   "metadata": {},
   "source": [
    "4. Transform text using sklearn's CountVectorizer as a method of feature extraction. Explain how CountVectorizer works. How does it transform the text into numeric values?"
   ]
  },
  {
   "cell_type": "markdown",
   "id": "0f2e0210",
   "metadata": {},
   "source": [
    "CountVectorizer takes all of the words in a corpus and converts it to a binary 0 or 1 matrix that indicates whether or not the value occurred in each document. In the example below it removes stopwords like \"is\" or \"and\"."
   ]
  },
  {
   "cell_type": "code",
   "execution_count": 8,
   "id": "f39ce218",
   "metadata": {},
   "outputs": [],
   "source": [
    "from sklearn.feature_extraction.text import CountVectorizer"
   ]
  },
  {
   "cell_type": "code",
   "execution_count": 9,
   "id": "e215872f",
   "metadata": {},
   "outputs": [],
   "source": [
    "#vectorize\n",
    "vec= CountVectorizer(stop_words='english')\n",
    "X_train_vectorized = vec.fit_transform(X_train.values)\n",
    "X_test_vectorized = vec.transform(X_test.values)"
   ]
  },
  {
   "cell_type": "code",
   "execution_count": 10,
   "id": "c04bc384",
   "metadata": {},
   "outputs": [
    {
     "name": "stdout",
     "output_type": "stream",
     "text": [
      "Samples (documents): 2000\n",
      "Features: 11585\n"
     ]
    }
   ],
   "source": [
    "print(f\"Samples (documents): {X_train_vectorized.shape[0]}\")\n",
    "print(f\"Features: {X_test_vectorized.shape[1]}\")"
   ]
  },
  {
   "cell_type": "markdown",
   "id": "fb898264",
   "metadata": {},
   "source": [
    "5. Fit and train a classification model with the following classification algorithms: logistic regression, naive bayes, and SGD classifier."
   ]
  },
  {
   "cell_type": "code",
   "execution_count": 11,
   "id": "a35655f4",
   "metadata": {},
   "outputs": [],
   "source": [
    "from sklearn.naive_bayes import MultinomialNB\n",
    "from sklearn import metrics\n",
    "from sklearn.linear_model import SGDClassifier\n",
    "from sklearn.datasets import load_iris\n",
    "from sklearn.linear_model import LogisticRegression\n",
    "from sklearn.metrics import accuracy_score"
   ]
  },
  {
   "cell_type": "code",
   "execution_count": 12,
   "id": "fc0b3d64",
   "metadata": {},
   "outputs": [],
   "source": [
    "sgd_model = SGDClassifier(random_state=120)\n",
    "\n",
    "sgd_model.fit(X_train_vectorized, y_train)\n",
    "\n",
    "sgd_predictions = sgd_model.predict(X_test_vectorized)"
   ]
  },
  {
   "cell_type": "code",
   "execution_count": 13,
   "id": "1282bee5",
   "metadata": {},
   "outputs": [],
   "source": [
    "#switch to a different method\n",
    "logistic_model = LogisticRegression()\n",
    "\n",
    "logistic_model.fit(X_train_vectorized, y_train)\n",
    "\n",
    "log_predictions = logistic_model.predict(X_test_vectorized)"
   ]
  },
  {
   "cell_type": "code",
   "execution_count": 14,
   "id": "af1980b4",
   "metadata": {},
   "outputs": [],
   "source": [
    "nb_class = MultinomialNB()\n",
    "\n",
    "nb_class.fit(X_train_vectorized, y_train)\n",
    "\n",
    "nb_predictions = nb_class.predict(X_test_vectorized)"
   ]
  },
  {
   "cell_type": "markdown",
   "id": "dddf5a0c",
   "metadata": {},
   "source": [
    "6. Evaluate and compare the models' performance. What are the accuracy scores for each model? Create a plot that shows the F1 scores of the three different algorithms. "
   ]
  },
  {
   "cell_type": "code",
   "execution_count": 15,
   "id": "708669b9",
   "metadata": {},
   "outputs": [],
   "source": [
    "#Classification report- f1 score bar plot- confusion matrix"
   ]
  },
  {
   "cell_type": "code",
   "execution_count": 16,
   "id": "d231384d",
   "metadata": {},
   "outputs": [
    {
     "name": "stdout",
     "output_type": "stream",
     "text": [
      "Naive bayes accuracy: Predicted 79.4% correct \n",
      "Logistic Regression accuracy: Predicted 76.2% correct \n",
      "SGD accuracy: Predicted 75.6% correct\n"
     ]
    }
   ],
   "source": [
    "print(f\"Naive bayes accuracy: Predicted {metrics.accuracy_score(y_test, nb_predictions)*100}% correct \\nLogistic Regression accuracy: Predicted {metrics.accuracy_score(y_test, log_predictions)*100}% correct \\nSGD accuracy: Predicted {metrics.accuracy_score(y_test, sgd_predictions)*100}% correct\")"
   ]
  },
  {
   "cell_type": "code",
   "execution_count": 17,
   "id": "4ddf81af",
   "metadata": {},
   "outputs": [
    {
     "data": {
      "text/html": [
       "<div>\n",
       "<style scoped>\n",
       "    .dataframe tbody tr th:only-of-type {\n",
       "        vertical-align: middle;\n",
       "    }\n",
       "\n",
       "    .dataframe tbody tr th {\n",
       "        vertical-align: top;\n",
       "    }\n",
       "\n",
       "    .dataframe thead th {\n",
       "        text-align: right;\n",
       "    }\n",
       "</style>\n",
       "<table border=\"1\" class=\"dataframe\">\n",
       "  <thead>\n",
       "    <tr style=\"text-align: right;\">\n",
       "      <th></th>\n",
       "      <th>predicte positive review</th>\n",
       "      <th>predicted non-positive review</th>\n",
       "    </tr>\n",
       "  </thead>\n",
       "  <tbody>\n",
       "    <tr>\n",
       "      <th>actual positive review</th>\n",
       "      <td>104</td>\n",
       "      <td>72</td>\n",
       "    </tr>\n",
       "    <tr>\n",
       "      <th>actual non-positive review</th>\n",
       "      <td>31</td>\n",
       "      <td>293</td>\n",
       "    </tr>\n",
       "  </tbody>\n",
       "</table>\n",
       "</div>"
      ],
      "text/plain": [
       "                            predicte positive review  \\\n",
       "actual positive review                           104   \n",
       "actual non-positive review                        31   \n",
       "\n",
       "                            predicted non-positive review  \n",
       "actual positive review                                 72  \n",
       "actual non-positive review                            293  "
      ]
     },
     "execution_count": 17,
     "metadata": {},
     "output_type": "execute_result"
    }
   ],
   "source": [
    "pd.DataFrame(metrics.confusion_matrix(y_test, nb_predictions, labels=[0,1]),\n",
    "           columns= [\"predicte positive review\", \"predicted non-positive review\"],\n",
    "           index=[\"actual positive review\", \"actual non-positive review\"])"
   ]
  },
  {
   "cell_type": "code",
   "execution_count": 18,
   "id": "349300f9",
   "metadata": {
    "scrolled": true
   },
   "outputs": [
    {
     "name": "stdout",
     "output_type": "stream",
     "text": [
      "              precision    recall  f1-score   support\n",
      "\n",
      "           0       0.77      0.59      0.67       176\n",
      "           1       0.80      0.90      0.85       324\n",
      "\n",
      "    accuracy                           0.79       500\n",
      "   macro avg       0.79      0.75      0.76       500\n",
      "weighted avg       0.79      0.79      0.79       500\n",
      "\n"
     ]
    }
   ],
   "source": [
    "print(metrics.classification_report(y_test, nb_predictions))"
   ]
  },
  {
   "cell_type": "code",
   "execution_count": 19,
   "id": "68e76c22",
   "metadata": {
    "scrolled": true
   },
   "outputs": [],
   "source": [
    "import matplotlib.pyplot as plt\n",
    "import seaborn as sns\n",
    "\n",
    "nb= sklearn.metrics.f1_score(y_test, nb_predictions)\n",
    "log= sklearn.metrics.f1_score(y_test, log_predictions)\n",
    "sgd= sklearn.metrics.f1_score(y_test, sgd_predictions)\n",
    "fscore = [nb, log, sgd]\n",
    "types = [\"nb\", \"log\", \"sgd\"]"
   ]
  },
  {
   "cell_type": "code",
   "execution_count": 20,
   "id": "2d292350",
   "metadata": {},
   "outputs": [
    {
     "data": {
      "image/png": "[encoded data removed]",
      "text/plain": [
       "<Figure size 576x432 with 1 Axes>"
      ]
     },
     "metadata": {
      "needs_background": "light"
     },
     "output_type": "display_data"
    }
   ],
   "source": [
    "# Create a bar plot\n",
    "plt.figure(figsize=(8, 6))\n",
    "sns.barplot(x=types, y=fscore, palette=\"Blues\")\n",
    "plt.xlabel(\"Types\")\n",
    "plt.ylabel(\"F1 Score\")\n",
    "plt.title(\"F1 Score for Different Models\")\n",
    "plt.ylim(0, 1)  # Set the y-axis limits to 0 and 1\n",
    "plt.show()"
   ]
  },
  {
   "cell_type": "markdown",
   "id": "c1913593",
   "metadata": {},
   "source": [
    "7. Transform text using sklearn's TfidfVectorizer and go through steps #4, #5, and #6. Compare the performance of the models using CountVectorizer vs. TfidfVectorizer. Which combination of vectorizer and algorithm performs best? Are there additional adjustments you can make to further improve the performance? Explain how TfidfVectorizer works. How does it transform the text into numeric values?"
   ]
  },
  {
   "cell_type": "markdown",
   "id": "f29a122a",
   "metadata": {},
   "source": [
    "With TFIDVectorizer, words are ranked by how uncommon they are. Works like is or was are given lower ranks whereas uncommon words like \"shocked\" or \"devastated\" are give a higher rank if they occure less frequently in the corpus."
   ]
  },
  {
   "cell_type": "code",
   "execution_count": 21,
   "id": "9905f003",
   "metadata": {},
   "outputs": [],
   "source": [
    "from sklearn.feature_extraction.text import TfidfVectorizer"
   ]
  },
  {
   "cell_type": "code",
   "execution_count": 22,
   "id": "002ca7fa",
   "metadata": {},
   "outputs": [
    {
     "name": "stdout",
     "output_type": "stream",
     "text": [
      "Samples (documents): 2000\n",
      "Features: 11585\n"
     ]
    }
   ],
   "source": [
    "vec= TfidfVectorizer(stop_words='english')\n",
    "X_train_vectorized = vec.fit_transform(X_train.values)\n",
    "X_test_vectorized = vec.transform(X_test.values)\n",
    "print(f\"Samples (documents): {X_train_vectorized.shape[0]}\")\n",
    "print(f\"Features: {X_test_vectorized.shape[1]}\")"
   ]
  },
  {
   "cell_type": "code",
   "execution_count": 23,
   "id": "04f9f04d",
   "metadata": {},
   "outputs": [],
   "source": [
    "sgd_model = SGDClassifier(random_state=120)\n",
    "\n",
    "sgd_model.fit(X_train_vectorized, y_train)\n",
    "\n",
    "sgd_predictions = sgd_model.predict(X_test_vectorized)"
   ]
  },
  {
   "cell_type": "code",
   "execution_count": 24,
   "id": "2d755a26",
   "metadata": {},
   "outputs": [],
   "source": [
    "#switch to a different method\n",
    "logistic_model = LogisticRegression()\n",
    "\n",
    "logistic_model.fit(X_train_vectorized, y_train)\n",
    "\n",
    "log_predictions = logistic_model.predict(X_test_vectorized)"
   ]
  },
  {
   "cell_type": "code",
   "execution_count": 25,
   "id": "5d2e7cab",
   "metadata": {},
   "outputs": [],
   "source": [
    "nb_class = MultinomialNB()\n",
    "\n",
    "nb_class.fit(X_train_vectorized, y_train)\n",
    "\n",
    "nb_predictions = nb_class.predict(X_test_vectorized)"
   ]
  },
  {
   "cell_type": "code",
   "execution_count": 26,
   "id": "39d357e3",
   "metadata": {},
   "outputs": [
    {
     "name": "stdout",
     "output_type": "stream",
     "text": [
      "Naive bayes accuracy: Predicted 69.39999999999999% correct \n",
      "Logistic Regression accuracy: Predicted 79.60000000000001% correct \n",
      "SGD accuracy: Predicted 75.2% correct\n"
     ]
    }
   ],
   "source": [
    "print(f\"Naive bayes accuracy: Predicted {metrics.accuracy_score(y_test, nb_predictions)*100}% correct \\nLogistic Regression accuracy: Predicted {metrics.accuracy_score(y_test, log_predictions)*100}% correct \\nSGD accuracy: Predicted {metrics.accuracy_score(y_test, sgd_predictions)*100}% correct\")"
   ]
  },
  {
   "cell_type": "code",
   "execution_count": 27,
   "id": "3e00320a",
   "metadata": {
    "scrolled": true
   },
   "outputs": [
    {
     "name": "stdout",
     "output_type": "stream",
     "text": [
      "              precision    recall  f1-score   support\n",
      "\n",
      "           0       1.00      0.13      0.23       176\n",
      "           1       0.68      1.00      0.81       324\n",
      "\n",
      "    accuracy                           0.69       500\n",
      "   macro avg       0.84      0.57      0.52       500\n",
      "weighted avg       0.79      0.69      0.61       500\n",
      "\n"
     ]
    }
   ],
   "source": [
    "print(metrics.classification_report(y_test, nb_predictions))"
   ]
  },
  {
   "cell_type": "code",
   "execution_count": 28,
   "id": "b36d09b3",
   "metadata": {},
   "outputs": [],
   "source": [
    "import matplotlib.pyplot as plt\n",
    "import seaborn as sns\n",
    "\n",
    "nb= sklearn.metrics.f1_score(y_test, nb_predictions)\n",
    "log= sklearn.metrics.f1_score(y_test, log_predictions)\n",
    "sgd= sklearn.metrics.f1_score(y_test, sgd_predictions)\n",
    "fscore = [nb, log, sgd]\n",
    "types = [\"nb\", \"log\", \"sgd\"]"
   ]
  },
  {
   "cell_type": "code",
   "execution_count": 29,
   "id": "90a2ec1a",
   "metadata": {},
   "outputs": [
    {
     "data": {
      "image/png": "[encoded data removed]",
      "text/plain": [
       "<Figure size 576x432 with 1 Axes>"
      ]
     },
     "metadata": {
      "needs_background": "light"
     },
     "output_type": "display_data"
    }
   ],
   "source": [
    "# Create a bar plot\n",
    "plt.figure(figsize=(8, 6))\n",
    "sns.barplot(x=types, y=fscore, palette=\"Blues\")\n",
    "plt.xlabel(\"Types\")\n",
    "plt.ylabel(\"F1 Score\")\n",
    "plt.title(\"F1 Score for Different Models\")\n",
    "plt.ylim(0, 1)  # Set the y-axis limits to 0 and 1\n",
    "plt.show()"
   ]
  },
  {
   "cell_type": "markdown",
   "id": "59adab5c",
   "metadata": {},
   "source": [
    "8. Define a function called textclass_pred that takes one argument--open-ended text. The function should use the model you trained above to predict whether the text passed to the function is positive or negative, based on your trained model. The function should return a statement that indicates whether the text passed is positive or negative.\n"
   ]
  },
  {
   "cell_type": "code",
   "execution_count": 30,
   "id": "cdcad340",
   "metadata": {},
   "outputs": [],
   "source": [
    "def textclass_pred(X_test):\n",
    "    \n",
    "    if isinstance(X_test, str):\n",
    "        # If X_test is a single string, wrap it in a list\n",
    "        X_test = [X_test]\n",
    "    \n",
    "    X_test_vectorized = vec.transform(X_test)\n",
    "      \n",
    "    sgd_predictions = sgd_model.predict(X_test_vectorized)\n",
    "    \n",
    "    answer = np.where(sgd_predictions >= 1, \"This review is positive\", \"This review is negative\")\n",
    "    \n",
    "    print(answer)\n",
    "    "
   ]
  },
  {
   "cell_type": "code",
   "execution_count": 31,
   "id": "e0bb2876",
   "metadata": {
    "scrolled": true
   },
   "outputs": [
    {
     "name": "stdout",
     "output_type": "stream",
     "text": [
      "['This review is negative']\n"
     ]
    }
   ],
   "source": [
    "textclass_pred(\"I hate this place\")"
   ]
  },
  {
   "cell_type": "markdown",
   "id": "203a3280",
   "metadata": {},
   "source": [
    "9. How could you apply the techniques used here to other text classification problems? What would you need to build the model?"
   ]
  },
  {
   "cell_type": "markdown",
   "id": "2fc16b51",
   "metadata": {},
   "source": [
    "This approach could be used in any circumstance where there are indications of a score to the problem. We have a 311 database at the city and after the work has been completed the person who submitted the 311 ticket can submit a review of the work and their satifaction. This could be used to train a model on reviewed work and perhaps it could be used to process tweets and see if the person is happy or not with work done by an agency."
   ]
  },
  {
   "cell_type": "code",
   "execution_count": null,
   "id": "e96b2dee",
   "metadata": {},
   "outputs": [],
   "source": []
  }
 ],
 "metadata": {
  "kernelspec": {
   "display_name": "Python 3",
   "language": "python",
   "name": "python3"
  },
  "language_info": {
   "codemirror_mode": {
    "name": "ipython",
    "version": 3
   },
   "file_extension": ".py",
   "mimetype": "text/x-python",
   "name": "python",
   "nbconvert_exporter": "python",
   "pygments_lexer": "ipython3",
   "version": "3.10.12"
  }
 },
 "nbformat": 4,
 "nbformat_minor": 5
}
