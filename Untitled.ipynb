{
 "cells": [
  {
   "cell_type": "code",
   "execution_count": 1,
   "id": "e20284b5",
   "metadata": {},
   "outputs": [],
   "source": [
    "import pandas as pd\n",
    "import numpy as np\n",
    "df = pd.read_csv(\"customer_reviews.csv\", index_col=0)"
   ]
  },
  {
   "cell_type": "markdown",
   "id": "8fb27eef",
   "metadata": {},
   "source": [
    "1. Ingest and process the customer reviews dataset"
   ]
  },
  {
   "cell_type": "code",
   "execution_count": 2,
   "id": "e96ad546",
   "metadata": {},
   "outputs": [
    {
     "data": {
      "text/html": [
       "<div>\n",
       "<style scoped>\n",
       "    .dataframe tbody tr th:only-of-type {\n",
       "        vertical-align: middle;\n",
       "    }\n",
       "\n",
       "    .dataframe tbody tr th {\n",
       "        vertical-align: top;\n",
       "    }\n",
       "\n",
       "    .dataframe thead th {\n",
       "        text-align: right;\n",
       "    }\n",
       "</style>\n",
       "<table border=\"1\" class=\"dataframe\">\n",
       "  <thead>\n",
       "    <tr style=\"text-align: right;\">\n",
       "      <th></th>\n",
       "      <th>reviewContent</th>\n",
       "      <th>rating</th>\n",
       "    </tr>\n",
       "  </thead>\n",
       "  <tbody>\n",
       "    <tr>\n",
       "      <th>0</th>\n",
       "      <td>Let me begin by saying that there are two kind...</td>\n",
       "      <td>5</td>\n",
       "    </tr>\n",
       "    <tr>\n",
       "      <th>1</th>\n",
       "      <td>The only place inside the Loop that you can st...</td>\n",
       "      <td>3</td>\n",
       "    </tr>\n",
       "    <tr>\n",
       "      <th>2</th>\n",
       "      <td>I have walked by the Tokyo Hotel countless tim...</td>\n",
       "      <td>5</td>\n",
       "    </tr>\n",
       "    <tr>\n",
       "      <th>3</th>\n",
       "      <td>If you are considering staying here, watch thi...</td>\n",
       "      <td>1</td>\n",
       "    </tr>\n",
       "    <tr>\n",
       "      <th>4</th>\n",
       "      <td>This place is disgusting, absolutely horrible,...</td>\n",
       "      <td>3</td>\n",
       "    </tr>\n",
       "  </tbody>\n",
       "</table>\n",
       "</div>"
      ],
      "text/plain": [
       "                                       reviewContent  rating\n",
       "0  Let me begin by saying that there are two kind...       5\n",
       "1  The only place inside the Loop that you can st...       3\n",
       "2  I have walked by the Tokyo Hotel countless tim...       5\n",
       "3  If you are considering staying here, watch thi...       1\n",
       "4  This place is disgusting, absolutely horrible,...       3"
      ]
     },
     "execution_count": 2,
     "metadata": {},
     "output_type": "execute_result"
    }
   ],
   "source": [
    "df.head()"
   ]
  },
  {
   "cell_type": "markdown",
   "id": "b3b797d7",
   "metadata": {},
   "source": [
    "2. Create a binary class target column called pos_rev that is 1 if the rating is 4 or 5 and 0 otherwise. Set this as the target column (i.e. y)."
   ]
  },
  {
   "cell_type": "code",
   "execution_count": 5,
   "id": "4184dcfe",
   "metadata": {},
   "outputs": [
    {
     "data": {
      "text/html": [
       "<div>\n",
       "<style scoped>\n",
       "    .dataframe tbody tr th:only-of-type {\n",
       "        vertical-align: middle;\n",
       "    }\n",
       "\n",
       "    .dataframe tbody tr th {\n",
       "        vertical-align: top;\n",
       "    }\n",
       "\n",
       "    .dataframe thead th {\n",
       "        text-align: right;\n",
       "    }\n",
       "</style>\n",
       "<table border=\"1\" class=\"dataframe\">\n",
       "  <thead>\n",
       "    <tr style=\"text-align: right;\">\n",
       "      <th></th>\n",
       "      <th>reviewContent</th>\n",
       "      <th>rating</th>\n",
       "      <th>pos_rev</th>\n",
       "    </tr>\n",
       "  </thead>\n",
       "  <tbody>\n",
       "    <tr>\n",
       "      <th>0</th>\n",
       "      <td>Let me begin by saying that there are two kind...</td>\n",
       "      <td>5</td>\n",
       "      <td>1</td>\n",
       "    </tr>\n",
       "    <tr>\n",
       "      <th>1</th>\n",
       "      <td>The only place inside the Loop that you can st...</td>\n",
       "      <td>3</td>\n",
       "      <td>0</td>\n",
       "    </tr>\n",
       "    <tr>\n",
       "      <th>2</th>\n",
       "      <td>I have walked by the Tokyo Hotel countless tim...</td>\n",
       "      <td>5</td>\n",
       "      <td>1</td>\n",
       "    </tr>\n",
       "    <tr>\n",
       "      <th>3</th>\n",
       "      <td>If you are considering staying here, watch thi...</td>\n",
       "      <td>1</td>\n",
       "      <td>0</td>\n",
       "    </tr>\n",
       "    <tr>\n",
       "      <th>4</th>\n",
       "      <td>This place is disgusting, absolutely horrible,...</td>\n",
       "      <td>3</td>\n",
       "      <td>0</td>\n",
       "    </tr>\n",
       "  </tbody>\n",
       "</table>\n",
       "</div>"
      ],
      "text/plain": [
       "                                       reviewContent  rating  pos_rev\n",
       "0  Let me begin by saying that there are two kind...       5        1\n",
       "1  The only place inside the Loop that you can st...       3        0\n",
       "2  I have walked by the Tokyo Hotel countless tim...       5        1\n",
       "3  If you are considering staying here, watch thi...       1        0\n",
       "4  This place is disgusting, absolutely horrible,...       3        0"
      ]
     },
     "execution_count": 5,
     "metadata": {},
     "output_type": "execute_result"
    }
   ],
   "source": [
    "df[\"pos_rev\"]= np.where(df[\"rating\"] >= 4, 1, 0)\n",
    "df.head()"
   ]
  },
  {
   "cell_type": "code",
   "execution_count": 6,
   "id": "7b9756b0",
   "metadata": {},
   "outputs": [
    {
     "data": {
      "text/plain": [
       "pos_rev\n",
       "1    1550\n",
       "0     950\n",
       "Name: count, dtype: int64"
      ]
     },
     "execution_count": 6,
     "metadata": {},
     "output_type": "execute_result"
    }
   ],
   "source": [
    "df[\"pos_rev\"].value_counts()"
   ]
  },
  {
   "cell_type": "markdown",
   "id": "563c6dcb",
   "metadata": {},
   "source": [
    "3. Split the data into train and test sets with an 80/20 split."
   ]
  },
  {
   "cell_type": "code",
   "execution_count": 7,
   "id": "a3e11bfc",
   "metadata": {},
   "outputs": [],
   "source": [
    "from sklearn.model_selection import train_test_split"
   ]
  },
  {
   "cell_type": "code",
   "execution_count": 8,
   "id": "158d8f64",
   "metadata": {},
   "outputs": [],
   "source": [
    "y = df[\"pos_rev\"]"
   ]
  },
  {
   "cell_type": "code",
   "execution_count": 9,
   "id": "703418ba",
   "metadata": {},
   "outputs": [],
   "source": [
    "X_train, X_test, y_train, y_test = train_test_split(df[\"reviewContent\"],\n",
    "                                                   y,\n",
    "                                                   test_size=0.20,\n",
    "                                                   random_state=987)"
   ]
  },
  {
   "cell_type": "markdown",
   "id": "3a2a4068",
   "metadata": {},
   "source": [
    "4. Transform text using sklearn's CountVectorizer as a method of feature extraction. Explain how CountVectorizer works. How does it transform the text into numeric values?"
   ]
  },
  {
   "cell_type": "code",
   "execution_count": 10,
   "id": "4da7920e",
   "metadata": {},
   "outputs": [],
   "source": [
    "from sklearn.feature_extraction.text import CountVectorizer"
   ]
  },
  {
   "cell_type": "code",
   "execution_count": 11,
   "id": "800ef9f7",
   "metadata": {},
   "outputs": [],
   "source": [
    "vec= CountVectorizer()\n",
    "X_train_vectorized = vec.fit_transform(X_train.values)\n",
    "X_test_vectorized = vec.transform(X_test.values)"
   ]
  },
  {
   "cell_type": "code",
   "execution_count": 12,
   "id": "6f4db967",
   "metadata": {},
   "outputs": [
    {
     "name": "stdout",
     "output_type": "stream",
     "text": [
      "Samples (documents): 2000\n",
      "Features: 11875\n"
     ]
    }
   ],
   "source": [
    "print(f\"Samples (documents): {X_train_vectorized.shape[0]}\")\n",
    "print(f\"Features: {X_test_vectorized.shape[1]}\")"
   ]
  },
  {
   "cell_type": "code",
   "execution_count": null,
   "id": "d959e4aa",
   "metadata": {},
   "outputs": [],
   "source": []
  }
 ],
 "metadata": {
  "kernelspec": {
   "display_name": "Python 3",
   "language": "python",
   "name": "python3"
  },
  "language_info": {
   "codemirror_mode": {
    "name": "ipython",
    "version": 3
   },
   "file_extension": ".py",
   "mimetype": "text/x-python",
   "name": "python",
   "nbconvert_exporter": "python",
   "pygments_lexer": "ipython3",
   "version": "3.10.12"
  }
 },
 "nbformat": 4,
 "nbformat_minor": 5
}
